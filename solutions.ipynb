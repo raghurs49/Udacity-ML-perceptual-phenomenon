#1. What is our independent variable? What is our dependent variable?

Independent variable: congruent or incongruent condition.
Dependent variable: Time taken to complete test.

#2. What is an appropriate set of hypotheses for this task? What kind of statistical test do you expect to perform? Justify your choices.


Null Hypothesis, H0 - No change in time between two reading tasks (congruent or incongruent)
Alternate Hypothesis, H1 - incongruent task take more time than congruent.
H0: μi ≤ μc (μi - population mean of incongruent values, μc - population mean of congruent values)

H1: μi > μc (μi - population mean of incongruent values, μc - population mean of congruent values)

statistical test dependent t-test (two tailed)

    We need to compare the means of two related groups to determine the statistically significant difference between two means.
    We are assuming distributions are nearly normal and we are comparing 2 dependent samples of data
    our sample size less than 30 and we don't know the population standard deviations

#3. Report some descriptive statistics regarding this dataset. Include at least one measure of central tendency and at least one measure of variability.
import math

import pandas as pd

import numpy as np

import seaborn as sns

import os

from scipy.stats import t

​

os.chdir("/home/raghusharma/Downloads")

df = pd.read_csv('stroopdata.csv')

print(df.mean(axis=0))

print(df.std(axis=0))

print("standard deviation for congruent {0:.2f}".format(np.std(df['Congruent'].values)))

print("standard deviation for Incongruent {0:.2f}".format(np.std(df['Incongruent'].values)))

Congruent      14.051125
Incongruent    22.015917
dtype: float64
Congruent      3.559358
Incongruent    4.797057
dtype: float64
standard deviation for congruent 3.48
standard deviation for Incongruent 4.70



#4. Provide one or two visualizations that show the distribution of the sample data. Write one or two sentences noting what you observe about the plot or plots.



#5. Now, perform the statistical test and report your results. What is your confidence level and your critical statistic value? Do you reject the null hypothesis or fail to reject it? Come to a conclusion in terms of the experiment task. Did the results match up with your expectations?




#6. Optional: What do you think is responsible for the effects observed? Can you think of an alternative or similar task that would result in a similar effect? Some research about the problem will be helpful for thinking about these two questions!

